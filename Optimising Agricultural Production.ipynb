{
 "cells": [
  {
   "cell_type": "code",
   "execution_count": 1,
   "id": "8ec20a13",
   "metadata": {},
   "outputs": [],
   "source": [
    "# for manupulations\n",
    "import numpy as np\n",
    "import pandas as pd\n",
    "\n",
    "# for visualizations\n",
    "import matplotlib.pyplot as plt\n",
    "import seaborn as sns\n",
    "\n",
    "# for interactivity \n",
    "from ipywidgets import interact"
   ]
  },
  {
   "cell_type": "code",
   "execution_count": 2,
   "id": "3813dfa5",
   "metadata": {},
   "outputs": [],
   "source": [
    "# read dataset\n",
    "data = pd.read_excel('data.xlsx', engine='openpyxl')"
   ]
  },
  {
   "cell_type": "code",
   "execution_count": 3,
   "id": "1698b99c",
   "metadata": {},
   "outputs": [
    {
     "name": "stdout",
     "output_type": "stream",
     "text": [
      "(2200, 8)\n"
     ]
    }
   ],
   "source": [
    "# check contents of dataset\n",
    "print(data.shape)"
   ]
  },
  {
   "cell_type": "code",
   "execution_count": 4,
   "id": "2fc51c0d",
   "metadata": {},
   "outputs": [
    {
     "data": {
      "text/html": [
       "<div>\n",
       "<style scoped>\n",
       "    .dataframe tbody tr th:only-of-type {\n",
       "        vertical-align: middle;\n",
       "    }\n",
       "\n",
       "    .dataframe tbody tr th {\n",
       "        vertical-align: top;\n",
       "    }\n",
       "\n",
       "    .dataframe thead th {\n",
       "        text-align: right;\n",
       "    }\n",
       "</style>\n",
       "<table border=\"1\" class=\"dataframe\">\n",
       "  <thead>\n",
       "    <tr style=\"text-align: right;\">\n",
       "      <th></th>\n",
       "      <th>N</th>\n",
       "      <th>P</th>\n",
       "      <th>K</th>\n",
       "      <th>temperature</th>\n",
       "      <th>humidity</th>\n",
       "      <th>ph</th>\n",
       "      <th>rainfall</th>\n",
       "      <th>label</th>\n",
       "    </tr>\n",
       "  </thead>\n",
       "  <tbody>\n",
       "    <tr>\n",
       "      <th>0</th>\n",
       "      <td>90</td>\n",
       "      <td>42</td>\n",
       "      <td>43</td>\n",
       "      <td>20.879744</td>\n",
       "      <td>82.002744</td>\n",
       "      <td>6.502985</td>\n",
       "      <td>202.935536</td>\n",
       "      <td>rice</td>\n",
       "    </tr>\n",
       "    <tr>\n",
       "      <th>1</th>\n",
       "      <td>85</td>\n",
       "      <td>58</td>\n",
       "      <td>41</td>\n",
       "      <td>21.770462</td>\n",
       "      <td>80.319644</td>\n",
       "      <td>7.038096</td>\n",
       "      <td>226.655537</td>\n",
       "      <td>rice</td>\n",
       "    </tr>\n",
       "    <tr>\n",
       "      <th>2</th>\n",
       "      <td>60</td>\n",
       "      <td>55</td>\n",
       "      <td>44</td>\n",
       "      <td>23.004459</td>\n",
       "      <td>82.320763</td>\n",
       "      <td>7.840207</td>\n",
       "      <td>263.964248</td>\n",
       "      <td>rice</td>\n",
       "    </tr>\n",
       "    <tr>\n",
       "      <th>3</th>\n",
       "      <td>74</td>\n",
       "      <td>35</td>\n",
       "      <td>40</td>\n",
       "      <td>26.491096</td>\n",
       "      <td>80.158363</td>\n",
       "      <td>6.980401</td>\n",
       "      <td>242.864034</td>\n",
       "      <td>rice</td>\n",
       "    </tr>\n",
       "    <tr>\n",
       "      <th>4</th>\n",
       "      <td>78</td>\n",
       "      <td>42</td>\n",
       "      <td>42</td>\n",
       "      <td>20.130175</td>\n",
       "      <td>81.604873</td>\n",
       "      <td>7.628473</td>\n",
       "      <td>262.717340</td>\n",
       "      <td>rice</td>\n",
       "    </tr>\n",
       "  </tbody>\n",
       "</table>\n",
       "</div>"
      ],
      "text/plain": [
       "    N   P   K  temperature   humidity        ph    rainfall label\n",
       "0  90  42  43    20.879744  82.002744  6.502985  202.935536  rice\n",
       "1  85  58  41    21.770462  80.319644  7.038096  226.655537  rice\n",
       "2  60  55  44    23.004459  82.320763  7.840207  263.964248  rice\n",
       "3  74  35  40    26.491096  80.158363  6.980401  242.864034  rice\n",
       "4  78  42  42    20.130175  81.604873  7.628473  262.717340  rice"
      ]
     },
     "execution_count": 4,
     "metadata": {},
     "output_type": "execute_result"
    }
   ],
   "source": [
    "data.head()"
   ]
  },
  {
   "cell_type": "code",
   "execution_count": 5,
   "id": "37b28948",
   "metadata": {},
   "outputs": [
    {
     "data": {
      "text/plain": [
       "N              0\n",
       "P              0\n",
       "K              0\n",
       "temperature    0\n",
       "humidity       0\n",
       "ph             0\n",
       "rainfall       0\n",
       "label          0\n",
       "dtype: int64"
      ]
     },
     "execution_count": 5,
     "metadata": {},
     "output_type": "execute_result"
    }
   ],
   "source": [
    "#checking null values\n",
    "data.isnull().sum()"
   ]
  },
  {
   "cell_type": "code",
   "execution_count": 6,
   "id": "4b95b60a",
   "metadata": {},
   "outputs": [
    {
     "data": {
      "text/plain": [
       "pomegranate    100\n",
       "mungbean       100\n",
       "blackgram      100\n",
       "cotton         100\n",
       "orange         100\n",
       "coffee         100\n",
       "pigeonpeas     100\n",
       "apple          100\n",
       "muskmelon      100\n",
       "chickpea       100\n",
       "jute           100\n",
       "maize          100\n",
       "rice           100\n",
       "watermelon     100\n",
       "mothbeans      100\n",
       "mango          100\n",
       "grapes         100\n",
       "banana         100\n",
       "lentil         100\n",
       "coconut        100\n",
       "kidneybeans    100\n",
       "papaya         100\n",
       "Name: label, dtype: int64"
      ]
     },
     "execution_count": 6,
     "metadata": {},
     "output_type": "execute_result"
    }
   ],
   "source": [
    "data['label'].value_counts()"
   ]
  },
  {
   "cell_type": "code",
   "execution_count": 7,
   "id": "a1f2b67f",
   "metadata": {},
   "outputs": [
    {
     "name": "stdout",
     "output_type": "stream",
     "text": [
      "50.551818181818184\n",
      "53.36272727272727\n",
      "48.14909090909091\n",
      "25.616243851779544\n",
      "71.48177921778637\n"
     ]
    }
   ],
   "source": [
    "print(format(data['N'].mean()))\n",
    "print(data['P'].mean())\n",
    "print(data['K'].mean())\n",
    "print(data['temperature'].mean())\n",
    "print(data['humidity'].mean())\n"
   ]
  },
  {
   "cell_type": "code",
   "execution_count": 8,
   "id": "76bdbfc0",
   "metadata": {},
   "outputs": [
    {
     "data": {
      "application/vnd.jupyter.widget-view+json": {
       "model_id": "c1881a28b8d341c581d04440723ce680",
       "version_major": 2,
       "version_minor": 0
      },
      "text/plain": [
       "interactive(children=(Dropdown(description='crops', options=('pomegranate', 'mungbean', 'blackgram', 'cotton',…"
      ]
     },
     "metadata": {},
     "output_type": "display_data"
    }
   ],
   "source": [
    "# lets check the summary statictics of each of the crops\n",
    "\n",
    "@interact \n",
    "def summary(crops = list(data['label'].value_counts().index)):\n",
    "    x = data[data['label'] == crops]\n",
    "    print(\"---------------------------------------------------\")\n",
    "    print(\"statistics for introgen\")\n",
    "    print(\"min nitrogen required:\",x['N'].min())\n",
    "    print(\"Average nitrogen required:\",x['N'].mean())\n",
    "    print(\"Maximum nitrogen required:\",x['N'].max())\n",
    "    print(\"---------------------------------------------------\")\n",
    "    print(\"min phosphorous required:\",x['P'].min())\n",
    "    print(\"Average phosphorous required:\",x['P'].mean())\n",
    "    print(\"Maximum phosphorous required:\",x['P'].max())\n",
    "    print(\"---------------------------------------------------\")\n",
    "    print(\"min humidity required:\",x['humidity'].min())\n",
    "    print(\"Average humidity required:\",x['humidity'].mean())\n",
    "    print(\"Maximum humidity required:\",x['humidity'].max())\n",
    "    print(\"---------------------------------------------------\")\n",
    "    print(\"min ph required:\",x['ph'].min())\n",
    "    print(\"Average ph required:\",x['ph'].mean())\n",
    "    print(\"Maximum ph required:\",x['ph'].max())\n",
    "    print(\"---------------------------------------------------\")\n",
    "    print(\"min rainfall required:\",x['rainfall'].min())\n",
    "    print(\"Average rainfall required:\",x['rainfall'].mean())\n",
    "    print(\"Maximum rainfall required:\",x['rainfall'].max())\n",
    "    print(\"---------------------------------------------------\")\n",
    "    print(\"min potassium required:\",x['K'].min())\n",
    "    print(\"Average potassium required:\",x['K'].mean())\n",
    "    print(\"Maximum potassium required:\",x['K'].max())\n",
    "    print(\"---------------------------------------------------\")\n",
    "    print(\"min temperature required:\",x['temperature'].min())\n",
    "    print(\"Average temperature required:\",x['temperature'].mean())\n",
    "    print(\"Maximum temperature required:\",x['temperature'].max())\n",
    "    \n",
    "    \n",
    "    "
   ]
  },
  {
   "cell_type": "code",
   "execution_count": 9,
   "id": "5506a80b",
   "metadata": {},
   "outputs": [
    {
     "data": {
      "application/vnd.jupyter.widget-view+json": {
       "model_id": "aa18dbd2c94945c7bc077c0c15624845",
       "version_major": 2,
       "version_minor": 0
      },
      "text/plain": [
       "interactive(children=(Dropdown(description='condition', options=('N', 'K', 'P', 'temperature', 'ph', 'humidity…"
      ]
     },
     "metadata": {},
     "output_type": "display_data"
    }
   ],
   "source": [
    "# summing up the whole thing\n",
    "@interact\n",
    "def compare(condition = ['N' , 'K' , 'P' , 'temperature' , 'ph' , 'humidity' , 'rainfall']):\n",
    "    print(\"crops which require greater than average: \", condition)\n",
    "    print(data[data[condition] > data[condition].mean()]['label'].unique())\n",
    "    print(\"------------------------------------------------------\")\n",
    "    print(\"crops which require less than average: \",condition,'\\n')\n",
    "    print(data[data[condition] <= data[condition].mean()]['label'].unique())\n",
    "    \n",
    "    \n",
    "    "
   ]
  },
  {
   "cell_type": "code",
   "execution_count": 10,
   "id": "6a2ac461",
   "metadata": {},
   "outputs": [
    {
     "data": {
      "application/vnd.jupyter.widget-view+json": {
       "model_id": "c3039b064a4345a7beb7677703e79356",
       "version_major": 2,
       "version_minor": 0
      },
      "text/plain": [
       "interactive(children=(Dropdown(description='condition', options=('N', 'K', 'P', 'temperature', 'ph', 'humidity…"
      ]
     },
     "metadata": {},
     "output_type": "display_data"
    }
   ],
   "source": [
    "@interact\n",
    "def compare(condition = ['N' , 'K' , 'P' , 'temperature' , 'ph' , 'humidity' , 'rainfall']):\n",
    "    print(\"average value for \", condition, \"is: \", data[condition].mean())\n",
    "    print(\"rice: \", data[data['label'] == 'rice'][condition].mean())"
   ]
  },
  {
   "cell_type": "code",
   "execution_count": 11,
   "id": "fe7b9756",
   "metadata": {},
   "outputs": [
    {
     "name": "stdout",
     "output_type": "stream",
     "text": [
      "patterns:\n",
      "high nitrogen: ['cotton']\n",
      "high phosporous: ['grapes' 'apple']\n",
      "high Potassium: ['grapes' 'apple']\n",
      "high temperature: ['grapes' 'papaya']\n",
      "Low temperature: ['kidneybeans' 'pigeonpeas' 'mothbeans' 'mungbean' 'lentil' 'pomegranate'\n",
      " 'mango' 'grapes' 'apple' 'orange' 'coconut']\n"
     ]
    }
   ],
   "source": [
    "#some interesting patterns\n",
    "print(\"patterns:\")\n",
    "print(\"high nitrogen:\", data[data['N'] > 120]['label'].unique())\n",
    "print(\"high phosporous:\", data[data['P'] > 100]['label'].unique())\n",
    "print(\"high Potassium:\", data[data['K'] > 200]['label'].unique())\n",
    "print(\"high temperature:\", data[data['temperature'] > 40]['label'].unique())\n",
    "print(\"Low temperature:\", data[data['N'] < 10]['label'].unique())\n"
   ]
  },
  {
   "cell_type": "code",
   "execution_count": 12,
   "id": "d0af9cc1",
   "metadata": {},
   "outputs": [
    {
     "name": "stdout",
     "output_type": "stream",
     "text": [
      "crops grown in summer season\n",
      "['pigeonpeas' 'mothbeans' 'blackgram' 'mango' 'grapes' 'orange' 'papaya']\n",
      "---------------------------------------------------------------------------\n",
      "winter crop\n",
      "['maize' 'pigeonpeas' 'lentil' 'pomegranate' 'grapes' 'orange']\n",
      "-----------------------------------------------------------------------\n",
      "Rainy crop\n",
      "['rice' 'papaya' 'coconut']\n"
     ]
    }
   ],
   "source": [
    "# lets understand which crop can be grown in summer season\n",
    "print(\"crops grown in summer season\")\n",
    "print(data[(data['temperature'] > 30) & (data['humidity'] > 50)]['label'].unique())\n",
    "print(\"---------------------------------------------------------------------------\")\n",
    "print(\"winter crop\")\n",
    "print(data[(data['temperature'] < 20) & (data['humidity'] > 30)]['label'].unique())\n",
    "print(\"-----------------------------------------------------------------------\")\n",
    "print(\"Rainy crop\")\n",
    "print(data[(data['rainfall'] >200)  & (data['humidity'] > 30)]['label'].unique())"
   ]
  },
  {
   "cell_type": "code",
   "execution_count": 13,
   "id": "2fe4131b",
   "metadata": {},
   "outputs": [
    {
     "name": "stdout",
     "output_type": "stream",
     "text": [
      "(2200, 7)\n"
     ]
    }
   ],
   "source": [
    "#clustering analysis\n",
    "#using k Means clustering analysis\n",
    "#using sk learn library import karne ka\n",
    "from sklearn.cluster import KMeans\n",
    "\n",
    "#removing the labels columnn\n",
    "x = data.drop(['label'], axis= 1)  #as we dont require labels for unsupervised learning\n",
    "x = x.values\n",
    "\n",
    "#checking shapes\n",
    "print(x.shape)"
   ]
  },
  {
   "cell_type": "code",
   "execution_count": 14,
   "id": "bd1bf644",
   "metadata": {},
   "outputs": [
    {
     "data": {
      "image/png": "[encoded data removed]",
      "text/plain": [
       "<Figure size 720x288 with 1 Axes>"
      ]
     },
     "metadata": {
      "needs_background": "light"
     },
     "output_type": "display_data"
    }
   ],
   "source": [
    "# preparing elbow chart to determine no. of clusters for kmeans\n",
    "\n",
    "plt.rcParams['figure.figsize'] = (10,4)\n",
    "\n",
    "wcss = []\n",
    "for i in range(1,11):\n",
    "    km = KMeans(n_clusters = i, init= 'k-means++', max_iter=300 , n_init=10 , random_state=0)\n",
    "    km.fit(x)\n",
    "    wcss.append(km.inertia_)\n",
    "\n",
    "    #plotting the results\n",
    "plt.plot(range(1 , 11), wcss)\n",
    "plt.title(\"The elbow Method\", fontsize=20)\n",
    "plt.xlabel(\"No of clusters\")\n",
    "plt.ylabel(\"wcss\")\n",
    "plt.show()"
   ]
  },
  {
   "cell_type": "code",
   "execution_count": 15,
   "id": "289f4c3c",
   "metadata": {},
   "outputs": [
    {
     "name": "stdout",
     "output_type": "stream",
     "text": [
      "first cluster:  ['maize' 'chickpea' 'kidneybeans' 'pigeonpeas' 'mothbeans' 'mungbean'\n",
      " 'blackgram' 'lentil' 'pomegranate' 'mango' 'orange' 'papaya' 'coconut']\n",
      "second cluster:  ['maize' 'banana' 'watermelon' 'muskmelon' 'papaya' 'cotton' 'coffee']\n",
      "third cluster:  ['grapes' 'apple']\n",
      "fourth cluster:  ['rice' 'pigeonpeas' 'papaya' 'coconut' 'jute' 'coffee']\n"
     ]
    }
   ],
   "source": [
    "#implementing kmeans \n",
    "km = KMeans(n_clusters = 4, init= 'k-means++', max_iter=300 , n_init=10 , random_state=0)\n",
    "y_means = km.fit_predict(x)\n",
    "\n",
    "\n",
    "#calculating the results\n",
    "a = data['label']\n",
    "y_means= pd.DataFrame(y_means)\n",
    "z = pd.concat([y_means, a], axis = 1)\n",
    "z = z.rename(columns = {0: 'cluster'})\n",
    "\n",
    "#lets check the cluster of each crops\n",
    "print(\"first cluster: \", z[z['cluster'] == 0]['label'].unique())\n",
    "print(\"second cluster: \", z[z['cluster'] == 1]['label'].unique())\n",
    "print(\"third cluster: \", z[z['cluster'] == 2]['label'].unique())\n",
    "print(\"fourth cluster: \", z[z['cluster'] == 3]['label'].unique())\n"
   ]
  },
  {
   "cell_type": "code",
   "execution_count": 16,
   "id": "40a9cefa",
   "metadata": {},
   "outputs": [
    {
     "name": "stdout",
     "output_type": "stream",
     "text": [
      "shape of x: (2200, 7)\n",
      "shape of y (2200,)\n"
     ]
    }
   ],
   "source": [
    "#logistic regression \n",
    "\n",
    "#storing labels in y and other dataset in x  so our models will not cheat\n",
    "\n",
    "y = data['label']\n",
    "x = data.drop(['label'],axis=1)\n",
    "\n",
    "print(\"shape of x:\", x.shape)\n",
    "print(\"shape of y\", y.shape)"
   ]
  },
  {
   "cell_type": "code",
   "execution_count": 23,
   "id": "f790a6a4",
   "metadata": {},
   "outputs": [
    {
     "name": "stdout",
     "output_type": "stream",
     "text": [
      "x training: (1760, 7)\n",
      "x testing: (440, 7)\n",
      "y training: (1760,)\n",
      "y testing: (440,)\n"
     ]
    }
   ],
   "source": [
    "# creating training and testing for validation of results\n",
    "from sklearn.model_selection import train_test_split\n",
    "\n",
    "x_train, x_test, y_train, y_test =train_test_split(x,y, test_size =0.2,random_state=0)  #training and testing (20:80) ratio\n",
    "\n",
    "print(\"x training:\", x_train.shape)\n",
    "print(\"x testing:\", x_test.shape)\n",
    "print(\"y training:\", y_train.shape)\n",
    "print(\"y testing:\", y_test.shape)"
   ]
  },
  {
   "cell_type": "code",
   "execution_count": 48,
   "id": "877f2fe3",
   "metadata": {},
   "outputs": [],
   "source": [
    "# creating machine learning predictive model  (using logistic regression module)\n",
    "from sklearn.linear_model import LogisticRegression\n",
    "\n",
    "model = LogisticRegression(solver='liblinear',max_iter=1000)\n",
    "model.fit(x_train,y_train)\n",
    "y_pred = model.predict(x_test)"
   ]
  },
  {
   "cell_type": "code",
   "execution_count": 54,
   "id": "97e95a21",
   "metadata": {},
   "outputs": [
    {
     "data": {
      "image/png": "[encoded data removed]",
      "text/plain": [
       "<Figure size 720x720 with 2 Axes>"
      ]
     },
     "metadata": {
      "needs_background": "light"
     },
     "output_type": "display_data"
    }
   ],
   "source": [
    "#checking accruacy of our model\n",
    "from sklearn.metrics import confusion_matrix\n",
    "\n",
    "#printing confusion matrix\n",
    "plt.rcParams['figure.figsize'] = (10,10)\n",
    "cm = confusion_matrix(y_test,y_pred)\n",
    "sns.heatmap(cm, annot=True, cmap='Wistia')\n",
    "plt.title(\"confusion matrix for LogisticRegression\", fontsize=15)\n",
    "plt.show()"
   ]
  },
  {
   "cell_type": "code",
   "execution_count": 59,
   "id": "9381bacf",
   "metadata": {},
   "outputs": [
    {
     "name": "stdout",
     "output_type": "stream",
     "text": [
      "              precision    recall  f1-score   support\n",
      "\n",
      "       apple       1.00      1.00      1.00        18\n",
      "      banana       1.00      0.94      0.97        18\n",
      "   blackgram       0.88      1.00      0.94        22\n",
      "    chickpea       1.00      1.00      1.00        23\n",
      "     coconut       1.00      1.00      1.00        15\n",
      "      coffee       1.00      1.00      1.00        17\n",
      "      cotton       0.89      1.00      0.94        16\n",
      "      grapes       1.00      1.00      1.00        18\n",
      "        jute       0.86      0.86      0.86        21\n",
      " kidneybeans       0.95      1.00      0.98        20\n",
      "      lentil       1.00      0.88      0.94        17\n",
      "       maize       1.00      0.89      0.94        18\n",
      "       mango       1.00      1.00      1.00        21\n",
      "   mothbeans       1.00      0.84      0.91        25\n",
      "    mungbean       0.94      1.00      0.97        17\n",
      "   muskmelon       1.00      1.00      1.00        23\n",
      "      orange       1.00      1.00      1.00        23\n",
      "      papaya       0.87      0.95      0.91        21\n",
      "  pigeonpeas       0.95      0.95      0.95        22\n",
      " pomegranate       1.00      1.00      1.00        23\n",
      "        rice       0.88      0.88      0.88        25\n",
      "  watermelon       1.00      1.00      1.00        17\n",
      "\n",
      "    accuracy                           0.96       440\n",
      "   macro avg       0.96      0.96      0.96       440\n",
      "weighted avg       0.96      0.96      0.96       440\n",
      "\n"
     ]
    }
   ],
   "source": [
    "# classification report\n",
    "from sklearn.metrics import classification_report\n",
    "cr = classification_report(y_test,y_pred)\n",
    "print(cr)"
   ]
  },
  {
   "cell_type": "code",
   "execution_count": 66,
   "id": "b3c2bfd5",
   "metadata": {},
   "outputs": [
    {
     "name": "stdout",
     "output_type": "stream",
     "text": [
      "Enter Nitrogen value:60\n",
      "Enter Phosphorous value:20\n",
      "Enter Potassium Value:50\n",
      "Enter Temperature value:10\n",
      "Enter Humidity value:30\n",
      "Enter Ph value:5\n",
      "Enter Rainfall Amount:300\n",
      "The climatic condition of the given values is ['coffee']\n"
     ]
    },
    {
     "name": "stderr",
     "output_type": "stream",
     "text": [
      "c:\\users\\my pc\\appdata\\local\\programs\\python\\python36\\lib\\site-packages\\sklearn\\utils\\validation.py:63: FutureWarning: Arrays of bytes/strings is being converted to decimal numbers if dtype='numeric'. This behavior is deprecated in 0.24 and will be removed in 1.1 (renaming of 0.26). Please convert your data to numeric values explicitly instead.\n",
      "  return f(*args, **kwargs)\n"
     ]
    }
   ],
   "source": [
    "#predicting the values of the given input\n",
    "a= input(\"Enter Nitrogen value:\")\n",
    "b= input(\"Enter Phosphorous value:\")\n",
    "c= input(\"Enter Potassium Value:\")\n",
    "d= input(\"Enter Temperature value:\")\n",
    "e=input(\"Enter Humidity value:\")\n",
    "f=input(\"Enter Ph value:\")\n",
    "g=input(\"Enter Rainfall Amount:\")\n",
    "prediction = model.predict((np.array([[a,b,c,d,e,f,g]])))\n",
    "print(\"The climatic condition of the given values is\", prediction)"
   ]
  }
 ],
 "metadata": {
  "kernelspec": {
   "display_name": "Python 3",
   "language": "python",
   "name": "python3"
  },
  "language_info": {
   "codemirror_mode": {
    "name": "ipython",
    "version": 3
   },
   "file_extension": ".py",
   "mimetype": "text/x-python",
   "name": "python",
   "nbconvert_exporter": "python",
   "pygments_lexer": "ipython3",
   "version": "3.6.8"
  }
 },
 "nbformat": 4,
 "nbformat_minor": 5
}
